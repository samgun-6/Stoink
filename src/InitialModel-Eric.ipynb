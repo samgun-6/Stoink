{
 "cells": [
  {
   "cell_type": "code",
   "execution_count": 209,
   "id": "25b933b1",
   "metadata": {},
   "outputs": [],
   "source": [
    "# Imports\n",
    "import pandas as pd\n",
    "from sklearn.model_selection import train_test_split\n",
    "from sklearn.preprocessing import StandardScaler\n",
    "from keras.constraints import maxnorm\n",
    "from sklearn import preprocessing\n",
    "import numpy as np\n",
    "import json as json\n",
    "import seaborn as sns\n",
    "import numpy as np\n",
    "import matplotlib.pyplot as plt\n",
    "import tensorflow as tf\n",
    "from tensorflow.keras.models import Sequential"
   ]
  },
  {
   "cell_type": "code",
   "execution_count": 210,
   "id": "5d74adcb",
   "metadata": {},
   "outputs": [],
   "source": [
    "# Loading the data from CSV into panadas dataframe\n",
    "df = pd.read_csv (r'..\\data\\topFiveFeats211207.csv', sep=',')"
   ]
  },
  {
   "cell_type": "code",
   "execution_count": 211,
   "id": "8c216e5e",
   "metadata": {},
   "outputs": [],
   "source": [
    "# Making the toy model with tensorflow\n",
    "model = tf.keras.models.Sequential()\n",
    "\n",
    "# Layers\n",
    "model.add(tf.keras.layers.Dropout(0.2, input_dim=5))\n",
    "model.add(tf.keras.layers.Dense(units = 10, activation = 'relu'))\n",
    "#model.add(tf.keras.layers.Dropout(0.2))\n",
    "model.add(tf.keras.layers.Dense(25, activation='relu'))\n",
    "model.add(tf.keras.layers.Dense(units = 1, activation = 'linear'))"
   ]
  },
  {
   "cell_type": "code",
   "execution_count": 212,
   "id": "0a7c8496",
   "metadata": {},
   "outputs": [],
   "source": [
    "# compiling the model\n",
    "opt = tf.keras.optimizers.Adam(lr=0.05)\n",
    "model.compile(loss = 'mean_squared_error', optimizer = opt, metrics=['accuracy'])"
   ]
  },
  {
   "cell_type": "code",
   "execution_count": 213,
   "id": "9efc30e0",
   "metadata": {},
   "outputs": [
    {
     "name": "stdout",
     "output_type": "stream",
     "text": [
      "0\n",
      "0\n",
      "Index(['3m', '1m', 'reportedEPS', 'totalNonCurrentAssets',\n",
      "       'depreciationAndAmortization', 'currentAccountsPayable', 'profitLoss'],\n",
      "      dtype='object')\n"
     ]
    }
   ],
   "source": [
    "# for soem reason there are Infs in the dataset\n",
    "df.replace([np.inf, -np.inf], np.nan, inplace=True)\n",
    "df.replace(np.nan, df.mean(), inplace=True)\n",
    "\n",
    "# Checking for NaNs and infs\n",
    "print(df.isnull().sum().sum())\n",
    "print(np.isinf(df).values.sum())\n",
    "\n",
    "print(df.columns)"
   ]
  },
  {
   "cell_type": "code",
   "execution_count": 214,
   "id": "49e72b0b",
   "metadata": {},
   "outputs": [],
   "source": [
    "# Declaring the label, y\n",
    "y = df[\"1m\"].to_numpy()\n",
    "X = df[column_features].to_numpy()\n",
    "\n"
   ]
  },
  {
   "cell_type": "code",
   "execution_count": 215,
   "id": "330b6aa4",
   "metadata": {},
   "outputs": [
    {
     "name": "stdout",
     "output_type": "stream",
     "text": [
      "False\n",
      "False\n",
      "False\n",
      "False\n",
      "(2400, 5) (1164, 5) (2400,) (1164,)\n"
     ]
    }
   ],
   "source": [
    "# SPlitting the dataset\n",
    "#X_train, X_test, y_train, y_test = train_test_split(X, y, test_size=0.3265)\n",
    "X_train, X_test, y_train, y_test = train_test_split(X, y, test_size=0.3265)\n",
    "\n",
    "# checking for nans in all np arrays\n",
    "array_sum = np.sum(X_train)\n",
    "array_has_nan = np.isnan(array_sum)\n",
    "print(array_has_nan)\n",
    "\n",
    "array_sum = np.sum(X_test)\n",
    "array_has_nan = np.isnan(array_sum)\n",
    "print(array_has_nan)\n",
    "\n",
    "array_sum = np.sum(y_train)\n",
    "array_has_nan = np.isnan(array_sum)\n",
    "print(array_has_nan)\n",
    "\n",
    "array_sum = np.sum(y_test)\n",
    "array_has_nan = np.isnan(array_sum)\n",
    "print(array_has_nan)\n",
    "\n",
    "# print\n",
    "print(X_train.shape, X_test.shape, y_train.shape, y_test.shape)"
   ]
  },
  {
   "cell_type": "code",
   "execution_count": null,
   "id": "60f7dc31",
   "metadata": {},
   "outputs": [],
   "source": [
    "\n"
   ]
  },
  {
   "cell_type": "code",
   "execution_count": 216,
   "id": "eed8a18f",
   "metadata": {},
   "outputs": [
    {
     "name": "stdout",
     "output_type": "stream",
     "text": [
      "Epoch 1/25\n",
      "75/75 [==============================] - 0s 920us/step - loss: 3.5932 - accuracy: 4.1667e-04\n",
      "Epoch 2/25\n",
      "75/75 [==============================] - 0s 867us/step - loss: 0.0106 - accuracy: 4.1667e-04\n",
      "Epoch 3/25\n",
      "75/75 [==============================] - 0s 854us/step - loss: 0.0094 - accuracy: 4.1667e-04\n",
      "Epoch 4/25\n",
      "75/75 [==============================] - 0s 867us/step - loss: 0.0088 - accuracy: 4.1667e-04\n",
      "Epoch 5/25\n",
      "75/75 [==============================] - 0s 893us/step - loss: 0.0087 - accuracy: 4.1667e-04\n",
      "Epoch 6/25\n",
      "75/75 [==============================] - 0s 907us/step - loss: 0.0087 - accuracy: 4.1667e-04\n",
      "Epoch 7/25\n",
      "75/75 [==============================] - 0s 920us/step - loss: 0.0087 - accuracy: 4.1667e-04\n",
      "Epoch 8/25\n",
      "75/75 [==============================] - 0s 920us/step - loss: 0.0088 - accuracy: 4.1667e-04\n",
      "Epoch 9/25\n",
      "75/75 [==============================] - 0s 893us/step - loss: 0.0087 - accuracy: 4.1667e-04\n",
      "Epoch 10/25\n",
      "75/75 [==============================] - 0s 920us/step - loss: 0.0086 - accuracy: 4.1667e-04\n",
      "Epoch 11/25\n",
      "75/75 [==============================] - 0s 920us/step - loss: 0.0086 - accuracy: 4.1667e-04\n",
      "Epoch 12/25\n",
      "75/75 [==============================] - 0s 893us/step - loss: 0.0087 - accuracy: 4.1667e-04\n",
      "Epoch 13/25\n",
      "75/75 [==============================] - 0s 893us/step - loss: 0.0087 - accuracy: 4.1667e-04\n",
      "Epoch 14/25\n",
      "75/75 [==============================] - 0s 880us/step - loss: 0.0087 - accuracy: 4.1667e-04\n",
      "Epoch 15/25\n",
      "75/75 [==============================] - 0s 853us/step - loss: 0.0086 - accuracy: 4.1667e-04\n",
      "Epoch 16/25\n",
      "75/75 [==============================] - 0s 1ms/step - loss: 0.0087 - accuracy: 4.1667e-04\n",
      "Epoch 17/25\n",
      "75/75 [==============================] - 0s 1ms/step - loss: 0.0087 - accuracy: 4.1667e-04\n",
      "Epoch 18/25\n",
      "75/75 [==============================] - 0s 1ms/step - loss: 0.0086 - accuracy: 4.1667e-04\n",
      "Epoch 19/25\n",
      "75/75 [==============================] - 0s 1ms/step - loss: 0.0087 - accuracy: 4.1667e-04\n",
      "Epoch 20/25\n",
      "75/75 [==============================] - 0s 1ms/step - loss: 0.0112 - accuracy: 4.1667e-04\n",
      "Epoch 21/25\n",
      "75/75 [==============================] - 0s 1ms/step - loss: 0.0087 - accuracy: 4.1667e-04\n",
      "Epoch 22/25\n",
      "75/75 [==============================] - 0s 1ms/step - loss: 0.0087 - accuracy: 4.1667e-04\n",
      "Epoch 23/25\n",
      "75/75 [==============================] - 0s 1ms/step - loss: 0.0088 - accuracy: 4.1667e-04\n",
      "Epoch 24/25\n",
      "75/75 [==============================] - 0s 1ms/step - loss: 0.0090 - accuracy: 4.1667e-04\n",
      "Epoch 25/25\n",
      "75/75 [==============================] - 0s 1ms/step - loss: 0.0088 - accuracy: 4.1667e-04\n"
     ]
    },
    {
     "data": {
      "text/plain": [
       "<tensorflow.python.keras.callbacks.History at 0x16d75375940>"
      ]
     },
     "execution_count": 216,
     "metadata": {},
     "output_type": "execute_result"
    }
   ],
   "source": [
    "# fitting the model\n",
    "model.fit(X_train, y_train, epochs = 25, batch_size = 32)"
   ]
  },
  {
   "cell_type": "code",
   "execution_count": 217,
   "id": "d7f51f95",
   "metadata": {},
   "outputs": [
    {
     "name": "stdout",
     "output_type": "stream",
     "text": [
      "37/37 [==============================] - 0s 865us/step - loss: 0.1773 - accuracy: 0.0017\n",
      "\n",
      "Test accuracy: 0.0017182130832225084\n"
     ]
    }
   ],
   "source": [
    " # Model evaluation\n",
    "test_loss, test_acc = model.evaluate(X_test, y_test)\n",
    "\n",
    "# Printing\n",
    "print('\\nTest accuracy:', test_acc)"
   ]
  },
  {
   "cell_type": "code",
   "execution_count": 218,
   "id": "97c1796b",
   "metadata": {},
   "outputs": [
    {
     "name": "stdout",
     "output_type": "stream",
     "text": [
      "[[0.03005245]\n",
      " [0.03005245]\n",
      " [0.03005245]\n",
      " ...\n",
      " [0.03005245]\n",
      " [0.03005245]\n",
      " [0.03005245]]\n"
     ]
    }
   ],
   "source": [
    "# prediction\n",
    "predictions = model.predict(X_test)\n",
    "print(predictions)"
   ]
  },
  {
   "cell_type": "code",
   "execution_count": null,
   "id": "3626c020",
   "metadata": {},
   "outputs": [],
   "source": [
    "\n",
    "\n"
   ]
  },
  {
   "cell_type": "code",
   "execution_count": null,
   "id": "aafb15df",
   "metadata": {},
   "outputs": [],
   "source": []
  }
 ],
 "metadata": {
  "kernelspec": {
   "display_name": "Python 3 (ipykernel)",
   "language": "python",
   "name": "python3"
  },
  "language_info": {
   "codemirror_mode": {
    "name": "ipython",
    "version": 3
   },
   "file_extension": ".py",
   "mimetype": "text/x-python",
   "name": "python",
   "nbconvert_exporter": "python",
   "pygments_lexer": "ipython3",
   "version": "3.8.12"
  }
 },
 "nbformat": 4,
 "nbformat_minor": 5
}
