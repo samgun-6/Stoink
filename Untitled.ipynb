{
 "cells": [
  {
   "cell_type": "code",
   "execution_count": 1,
   "id": "2eed58fd",
   "metadata": {},
   "outputs": [],
   "source": [
    "# this is aa toy model, mased on AIp data from Alpha vantage\n",
    "# but the labels and manfactured by us to make this toy model work, we will alter add these"
   ]
  },
  {
   "cell_type": "code",
   "execution_count": 3,
   "id": "5b494a5a",
   "metadata": {},
   "outputs": [],
   "source": [
    "#imports\n",
    "import pandas as pd\n",
    "import numpy as np\n",
    "from keras.models import Sequential\n",
    "from keras.layers import Dense\n",
    "import http.client\n",
    "import json as json"
   ]
  },
  {
   "cell_type": "code",
   "execution_count": null,
   "id": "d25c8bbc",
   "metadata": {},
   "outputs": [],
   "source": []
  }
 ],
 "metadata": {
  "kernelspec": {
   "display_name": "Python 3",
   "language": "python",
   "name": "python3"
  },
  "language_info": {
   "codemirror_mode": {
    "name": "ipython",
    "version": 3
   },
   "file_extension": ".py",
   "mimetype": "text/x-python",
   "name": "python",
   "nbconvert_exporter": "python",
   "pygments_lexer": "ipython3",
   "version": "3.6.13"
  }
 },
 "nbformat": 4,
 "nbformat_minor": 5
}
